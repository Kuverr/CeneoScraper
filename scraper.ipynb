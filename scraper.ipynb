{
 "cells": [
  {
   "cell_type": "markdown",
   "metadata": {},
   "source": [
    "### Import bibliotek"
   ]
  },
  {
   "cell_type": "code",
   "execution_count": 1,
   "metadata": {},
   "outputs": [],
   "source": [
    "import requests\n",
    "from bs4 import BeautifulSoup"
   ]
  },
  {
   "cell_type": "markdown",
   "metadata": {},
   "source": [
    "### Wysłanie żądania dostępu do strony internetowej z opiniami o produkcie"
   ]
  },
  {
   "cell_type": "code",
   "execution_count": 2,
   "metadata": {},
   "outputs": [],
   "source": [
    "url = \"https://www.ceneo.pl/84514582#tab=reviews\"\n",
    "\n",
    "response = requests.get(url)"
   ]
  },
  {
   "cell_type": "markdown",
   "metadata": {},
   "source": [
    "### Jeżeli operacja zakończy się powodzeniem pobieramy dane html ze strony"
   ]
  },
  {
   "cell_type": "code",
   "execution_count": 3,
   "metadata": {},
   "outputs": [],
   "source": [
    "if response.status_code == 200:\n",
    "    page_dom = BeautifulSoup(response.text, \"html.parser\")\n",
    "    opinions = page_dom.select(\"div.js_product-review:not(.user-post--highlight)\")"
   ]
  },
  {
   "cell_type": "markdown",
   "metadata": {},
   "source": [
    "### Dla każdej opinii wyodrębnienie danych i przypisanie ich do struktury danych"
   ]
  },
  {
   "cell_type": "code",
   "execution_count": 17,
   "metadata": {},
   "outputs": [
    {
     "name": "stdout",
     "output_type": "stream",
     "text": [
      "{'author': 'b...a', 'recommendation': 'Polecam', 'stars': '4/5', 'content': 'Wykonana dobrze, trochę za duża, z ledwością mieści mi się na biurku, ale może być. Drukuje ciszej w porównaniu z poprzednią drukarką HP 209a. Napełniłam tusze do pełna i po ok.10 kartkach ubyło mi 4 mm czarnego tuszu w pojemniku. Mam nadzieję, że będzie wydajna. Na razie nie mogę tego stwierdzić. Fajnie, że można zobaczyć, ile ubyło tuszu. Dolewanie jest banalnie proste, tusz nie wylewa się. Martwi mnie tylko, że przenosić trzeba ją w pozycji poziomej, bo inaczej tusz może się wylewać. Ogólnie jestem zadowolona z zakupu.', 'pros': ['czyste napełnianie atramentem', 'głośność pracy'], 'cons': [], 'useful': '2', 'unuseful': '3', 'post_date': '2020-12-10 19:41:04', 'purchase_date': '2020-12-04 21:02:01'}\n",
      "{'author': 'U...o', 'recommendation': 'Polecam', 'stars': '4,5/5', 'content': 'Po 1 dniu uzytkowania mozna stwierdzic 1-polaczenie z kompem poprzez wi fi-bez problemu\\n2-tankowanie zbiorniczkow-bez problemu\\n3-montaz ,,glowic,,-beznadziejny dostep,jakies pomaranczowe badziewie ciezko wydostac z wnetrza drukarki(po cholere takie zabezpieczenie)ale udalo sie\\n4-polaczenie z telefonem -bez problemu\\n5-jak z kompa tak i z telefonu(za posrednictwem aplikacji  HP SMART) bez problemow\\n6-druk na zwyklym papierze spoko (czern i kolor )\\n7-po testach na papierze foto -zobaczymy\\n8-ogolnie -za taka kase polecam', 'pros': ['czyste napełnianie atramentem', 'jakość wydruków', 'jakość wydruku', 'niski koszt wydruku', 'szybkość wydruku', 'wydajna', 'wydajność'], 'cons': ['głośność pracy'], 'useful': '0', 'unuseful': '0', 'post_date': '2024-01-12 21:03:08', 'purchase_date': '2024-01-09 18:20:01'}\n",
      "{'author': 'k...l', 'recommendation': 'Polecam', 'stars': '4/5', 'content': 'Wszystko z opisu się zgadza. Baaardzo ekonomiczna, jakość druku wysoka, jak na czołg drukarkowy niewielka... Przypomniałem sobie tyko dlaczego nie lubię HP-ków. Mało intuicyjna aplikacja, nie tak denerwująca jak kiedyś ale konfiguracja trwała zbyt długo. A poza tym zupełnie spoko.', 'pros': [], 'cons': [], 'useful': '3', 'unuseful': '0', 'post_date': '2021-11-18 17:47:41', 'purchase_date': '2021-11-01 18:36:33'}\n",
      "{'author': 'Użytkownik Ceneo', 'recommendation': 'Polecam', 'stars': '4/5', 'content': 'Bardzo wydajna i oszczędna drukarka. Solidna, dobra jakość wykonania.\\nDługo się czeka przy włączeniu zanim będzie gotowa do pracy. Dość głośna.', 'pros': ['jakość wydruków', 'jakość wydruku'], 'cons': ['głośność pracy', 'szybkość wydruku'], 'useful': '1', 'unuseful': '1', 'post_date': '2021-04-14 00:32:31', 'purchase_date': '2021-03-23 08:31:21'}\n",
      "{'author': 'p...m', 'recommendation': 'Nie polecam', 'stars': '1/5', 'content': 'Drukarka jak na tą cenę jest bardzo słaba, Czas  potrzebny do wydrukowania pierwszej strony to prawie dwie minuty. A odgłosy wydaje takie, jakby za chwilę miała rozpaść się. W tej cenie należałoby też oczekiwać dwustronnego automatycznego wydruku. Wprawdzie info o dwustronnym wydruku jest na stronie sklepu, ale w rzeczywistości nie ma to nic wspólnego z dwustronnym wydrukiem, kartkę trzeba przenosić ręcznie zgodnie z wyświetlona instrukcją.', 'pros': [], 'cons': ['głośność pracy', 'jakość wydruków', 'jakość wydruku', 'szybkość wydruku'], 'useful': '6', 'unuseful': '1', 'post_date': '2020-12-26 21:42:32', 'purchase_date': '2020-11-26 08:21:40'}\n",
      "{'author': 'm...i', 'recommendation': 'Nie polecam', 'stars': '0,5/5', 'content': 'Niestety pierwsze wrazenie po uruchomieniu sprzetu negatywne. Odrazu trzeba bylo skladac reklamacje poniewaz jakosc druku odbiegała od normy. Po zgloszeniu okazalo sie ze jest uszkodzona glowica. Zobaczymy jak przyjdzie nowa glowica czy cos to da. Jaknarazie to wielka porażka a myslalam ze sprzet za ta cene bedzie działał bez zarzutu. Niestety pomyliłam się.', 'pros': [], 'cons': [], 'useful': '8', 'unuseful': '4', 'post_date': '2020-10-20 18:00:33', 'purchase_date': '2020-10-16 15:51:18'}\n"
     ]
    }
   ],
   "source": [
    "for opinion in opinions:\n",
    "    try:\n",
    "        single_opinion = {\n",
    "            \"author\" : opinion.select_one(\"span.user-post__author-name\").text.strip(),\n",
    "            \"recommendation\" :  opinion.select_one(\"span.user-post__author-recomendation > em\").text.strip(),\n",
    "            \"stars\" : opinion.select_one(\"span.user-post__score-count\").text.strip(),\n",
    "            \"content\" : opinion.select_one(\"div.user-post__text\").text.strip(),\n",
    "            \"pros\" : [p.text.strip() for p in opinion.select(\"div.review-feature__item--positive\")],\n",
    "            \"cons\" : [c.text.strip() for c in opinion.select(\"div.review-feature__item--negative\")],\n",
    "            \"useful\" : opinion.select_one(\"button.vote-yes > span\").text.strip(),\n",
    "            \"unuseful\" : opinion.select_one(\"button.vote-no > span\").text.strip(),\n",
    "            \"post_date\" : opinion.select_one(\"span.user-post__published > time:nth-of-type(1)\")['datetime'].strip(),\n",
    "            \"purchase_date\" : opinion.select_one(\"span.user-post__published > time:nth-of-type(2)\")['datetime'].strip(),\n",
    "        }\n",
    "        print(single_opinion)\n",
    "    except (AttributeError, TypeError):\n",
    "        pass"
   ]
  }
 ],
 "metadata": {
  "kernelspec": {
   "display_name": ".venv",
   "language": "python",
   "name": "python3"
  },
  "language_info": {
   "codemirror_mode": {
    "name": "ipython",
    "version": 3
   },
   "file_extension": ".py",
   "mimetype": "text/x-python",
   "name": "python",
   "nbconvert_exporter": "python",
   "pygments_lexer": "ipython3",
   "version": "3.11.4"
  }
 },
 "nbformat": 4,
 "nbformat_minor": 2
}
